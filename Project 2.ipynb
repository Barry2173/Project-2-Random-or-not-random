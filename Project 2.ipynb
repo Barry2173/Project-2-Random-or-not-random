{
 "cells": [
  {
   "cell_type": "code",
   "execution_count": 111,
   "metadata": {},
   "outputs": [],
   "source": [
    "## Project 2"
   ]
  },
  {
   "cell_type": "code",
   "execution_count": 112,
   "metadata": {},
   "outputs": [],
   "source": [
    "## Yunzhe Tang"
   ]
  },
  {
   "cell_type": "code",
   "execution_count": 113,
   "metadata": {},
   "outputs": [],
   "source": [
    "## Task 1"
   ]
  },
  {
   "cell_type": "code",
   "execution_count": 114,
   "metadata": {},
   "outputs": [],
   "source": [
    "import matplotlib.pyplot as plt"
   ]
  },
  {
   "cell_type": "code",
   "execution_count": 115,
   "metadata": {},
   "outputs": [
    {
     "data": {
      "text/plain": [
       "array([ 0.04620246, -0.02733986, -0.1196323 ,  0.09889547,  0.1605623 ])"
      ]
     },
     "execution_count": 115,
     "metadata": {},
     "output_type": "execute_result"
    }
   ],
   "source": [
    "# generate a vector of random numbers which obeys the given distribution.\n",
    "#\n",
    "# n: length of the vector\n",
    "# mu: mean value\n",
    "# sigma: standard deviation.\n",
    "# dist: choices for the distribution, you need to implement at least normal \n",
    "#       distribution and uniform distribution.\n",
    "#\n",
    "# For normal distribution, you can use ``numpy.random.normal`` to generate.\n",
    "# For uniform distribution, the interval to sample will be [mu - sigma/sqrt(3), mu + sigma/sqrt(3)].\n",
    "\n",
    "import numpy as np\n",
    "\n",
    "def generate_random_numbers(n, mu, sigma, dist=\"normal\"):\n",
    "    # write your code here.\n",
    "    \n",
    "    if dist == \"normal\":\n",
    "        return np.random.normal(mu, sigma, n)\n",
    "    elif dist == \"uniform\":\n",
    "        # write your code here.\n",
    "        return np.random.uniform(mu - sigma/(3**0.5), mu + sigma/(3**0.5), n)\n",
    "      \n",
    "        pass\n",
    "    else:\n",
    "        raise Exception(\"The distribution {unknown_dist} is not implemented\".format(unknown_dist=dist))\n",
    "        \n",
    "        \n",
    "# test your code:\n",
    "y_test = generate_random_numbers(5, 0, 0.1, \"normal\")\n",
    "y_test"
   ]
  },
  {
   "cell_type": "code",
   "execution_count": 116,
   "metadata": {},
   "outputs": [
    {
     "name": "stdout",
     "output_type": "stream",
     "text": [
      "0.35472612048158747\n",
      "0.5411378550724293\n"
     ]
    }
   ],
   "source": [
    "y1 = generate_random_numbers(105, 0.5, 1.0, \"normal\")\n",
    "y2 = generate_random_numbers(105, 0.5, 1.0, \"uniform\")\n",
    "n = 105\n",
    "a = 0\n",
    "b = 0\n",
    "for i in range(n):\n",
    "    a += y1[i]\n",
    "    b += y2[i]\n",
    "meany1 = a/n\n",
    "meany2 = b/n\n",
    "print(meany1)\n",
    "print(meany2)"
   ]
  },
  {
   "cell_type": "code",
   "execution_count": 117,
   "metadata": {},
   "outputs": [],
   "source": [
    "# IGD, the ordering is permitted to have replacement. \n",
    "#\n",
    "#\n",
    "def IGD_wr_task1(y):\n",
    "    n = len(y)\n",
    "    ordering = np.random.choice(n, n, replace=True)\n",
    "    # implement the algorithm's iteration of IGD. Your result should return the the final xk\n",
    "    # at the last iteration and also the history of objective function at each xk.\n",
    "    x = 0\n",
    "    obej = []\n",
    "    def object_func(x):\n",
    "        sum = 0\n",
    "        for i in range(n):\n",
    "            sum += (x - y[i])**2\n",
    "        return sum*0.5\n",
    "    for k in range(n):\n",
    "        m = ordering[k]\n",
    "        x = x - 1/(k + 1)*(x - y[m])\n",
    "        obej.append(object_func(x))\n",
    "    return obej,x\n",
    "    pass"
   ]
  },
  {
   "cell_type": "code",
   "execution_count": 118,
   "metadata": {},
   "outputs": [],
   "source": [
    "# IGD, the ordering is not permitted to have replacement.\n",
    "#\n",
    "#\n",
    "def IGD_wo_task1(y):\n",
    "    n = len(y)\n",
    "    ordering = np.random.choice(n, n, replace=False)\n",
    "    # implement the algorithm's iteration of IGD. Your result should return the the final xk\n",
    "    # at the last iteration and also the history of objective function at each xk.\n",
    "    x = 0\n",
    "    obej = []\n",
    "    def object_func(x):\n",
    "        sum = 0\n",
    "        for i in range(n):\n",
    "            sum += (x - y[i])**2\n",
    "        return sum*0.5\n",
    "    for k in range(n):\n",
    "        m = ordering[k]\n",
    "        x = x - 1/(k + 1)*(x - y[m])\n",
    "        obej.append(object_func(x))\n",
    "    return obej,x\n",
    "    pass"
   ]
  },
  {
   "cell_type": "code",
   "execution_count": 119,
   "metadata": {},
   "outputs": [
    {
     "name": "stdout",
     "output_type": "stream",
     "text": [
      "0.37568117969059167\n",
      "0.35472612048158736\n",
      "0.5653952725914825\n",
      "0.5411378550724293\n"
     ]
    }
   ],
   "source": [
    "hist1_1_1,xk1_1_1=IGD_wr_task1(y1)\n",
    "hist1_1_2,xk1_1_2=IGD_wo_task1(y1)\n",
    "hist1_2_1,xk1_2_1=IGD_wr_task1(y2)\n",
    "hist1_2_2,xk1_2_2=IGD_wo_task1(y2)\n",
    "print(xk1_1_1)\n",
    "print(xk1_1_2)\n",
    "print(xk1_2_1)\n",
    "print(xk1_2_2)"
   ]
  },
  {
   "cell_type": "code",
   "execution_count": 120,
   "metadata": {},
   "outputs": [
    {
     "data": {
      "text/plain": [
       "<matplotlib.legend.Legend at 0x12333d710>"
      ]
     },
     "execution_count": 120,
     "metadata": {},
     "output_type": "execute_result"
    },
    {
     "data": {
      "image/png": "[encoded data removed]",
      "text/plain": [
       "<Figure size 432x288 with 1 Axes>"
      ]
     },
     "metadata": {
      "needs_background": "light"
     },
     "output_type": "display_data"
    },
    {
     "data": {
      "image/png": "[encoded data removed]",
      "text/plain": [
       "<Figure size 432x288 with 1 Axes>"
      ]
     },
     "metadata": {
      "needs_background": "light"
     },
     "output_type": "display_data"
    }
   ],
   "source": [
    "plt.figure()\n",
    "plt.title('y1(normal)')\n",
    "x_axis = range(len(y1))\n",
    "plt.plot(x_axis,hist1_1_1,color='blue',label='with replacement')\n",
    "plt.plot(x_axis,hist1_1_2,color='red',label='without replacement')\n",
    "plt.legend()\n",
    "plt.figure()\n",
    "plt.title('y2(uniform)')\n",
    "x_axis = range(len(y2))\n",
    "plt.plot(x_axis,hist1_2_1,color='blue',label='with replacement')\n",
    "plt.plot(x_axis,hist1_2_2,color='red',label='without replacement')\n",
    "plt.legend()"
   ]
  },
  {
   "cell_type": "code",
   "execution_count": 121,
   "metadata": {},
   "outputs": [],
   "source": [
    "## The second method (without replacement) is better.\n",
    "## Brief proof:\n",
    "## We can use induction to prove that xk = mean.\n",
    "## Without replacement means that the index of each yik is distinctm, which means all n yi will be chosen in n steps.\n",
    "## Base case, let k = 1. Then x1 = y1 = mean.\n",
    "## Assume when k = n, xk = 1/k * sum of y's.\n",
    "## When k = n+1, xk+1 = xk - 1/(k+1) * (xk - yk+1) = 1/(k+1) * (y1 + ... + yk) + 1/(k + 1) * yk+1 \n",
    "## = 1/(k+1) * (y1 + ... + yk+1)\n",
    "## Therefore, xk = mean of the sum of y's."
   ]
  },
  {
   "cell_type": "code",
   "execution_count": 122,
   "metadata": {},
   "outputs": [],
   "source": [
    "## Task 2"
   ]
  },
  {
   "cell_type": "code",
   "execution_count": 123,
   "metadata": {},
   "outputs": [],
   "source": [
    "# IGD, the ordering is permitted to have replacement. \n",
    "#\n",
    "#\n",
    "def IGD_wr_task2(beta,y):\n",
    "    n = len(beta)\n",
    "    ordering = np.random.choice(n, n, replace=True)\n",
    "    # implement the algorithm's iteration of IGD. Your result should return the the final xk\n",
    "    # at the last iteration and also the history of objective function at each xk.\n",
    "    gamma = 0.95*min(1/beta)\n",
    "    x = 0\n",
    "    obej = []\n",
    "    def object_func(x):\n",
    "        sum = 0\n",
    "        for i in range(n):\n",
    "            sum += beta[i]*(x - y)**2\n",
    "        return sum*0.5\n",
    "    for k in range(n):\n",
    "        m = ordering[k]\n",
    "        x = x - gamma*beta[m]*(x - y)\n",
    "        obej.append(object_func(x))\n",
    "    return obej,x\n",
    "    pass"
   ]
  },
  {
   "cell_type": "code",
   "execution_count": 124,
   "metadata": {},
   "outputs": [],
   "source": [
    "# IGD, the ordering is not permitted to have replacement.\n",
    "#\n",
    "#\n",
    "def IGD_wo_task2(beta,y):\n",
    "    n = len(beta)\n",
    "    ordering = np.random.choice(n, n, replace=False)\n",
    "    # implement the algorithm's iteration of IGD. Your result should return the the final xk\n",
    "    # at the last iteration and also the history of objective function at each xk.\n",
    "    gamma = 0.95*min(1/beta)\n",
    "    x = 0\n",
    "    obej = []\n",
    "    def object_func(x):\n",
    "        sum = 0\n",
    "        for i in range(n):\n",
    "            sum += beta[i]*(x - y)**2\n",
    "        return sum*0.5\n",
    "    for k in range(n):\n",
    "        m = ordering[k]\n",
    "        x = x - gamma*beta[m]*(x - y)\n",
    "        obej.append(object_func(x))\n",
    "    return obej,x\n",
    "    pass"
   ]
  },
  {
   "cell_type": "code",
   "execution_count": 125,
   "metadata": {},
   "outputs": [
    {
     "name": "stdout",
     "output_type": "stream",
     "text": [
      "666.0\n",
      "666.0\n",
      "77.0\n",
      "77.0\n"
     ]
    }
   ],
   "source": [
    "beta = np.random.uniform(1,2,105)\n",
    "hist2_1_1,xk2_1_1=IGD_wr_task2(beta,666)\n",
    "hist2_1_2,xk2_1_2=IGD_wo_task2(beta,666)\n",
    "hist2_2_1,xk2_2_1=IGD_wr_task2(beta,77)\n",
    "hist2_2_2,xk2_2_2=IGD_wo_task2(beta,77)\n",
    "print(xk2_1_1)\n",
    "print(xk2_1_2)\n",
    "print(xk2_2_1)\n",
    "print(xk2_2_2)"
   ]
  },
  {
   "cell_type": "code",
   "execution_count": 126,
   "metadata": {},
   "outputs": [
    {
     "data": {
      "text/plain": [
       "<matplotlib.legend.Legend at 0x1232fa2b0>"
      ]
     },
     "execution_count": 126,
     "metadata": {},
     "output_type": "execute_result"
    },
    {
     "data": {
      "image/png": "[encoded data removed]",
      "text/plain": [
       "<Figure size 432x288 with 1 Axes>"
      ]
     },
     "metadata": {
      "needs_background": "light"
     },
     "output_type": "display_data"
    },
    {
     "data": {
      "image/png": "[encoded data removed]",
      "text/plain": [
       "<Figure size 432x288 with 1 Axes>"
      ]
     },
     "metadata": {
      "needs_background": "light"
     },
     "output_type": "display_data"
    }
   ],
   "source": [
    "plt.figure()\n",
    "plt.title('y=666')\n",
    "x_axis = range(len(y1))\n",
    "plt.plot(x_axis,hist2_1_1,color='blue',label='with replacement')\n",
    "plt.plot(x_axis,hist2_1_2,color='red',label='without replacement')\n",
    "plt.legend()\n",
    "plt.figure()\n",
    "plt.title('y=77')\n",
    "x_axis = range(len(y2))\n",
    "plt.plot(x_axis,hist2_2_1,color='blue',label='with replacement')\n",
    "plt.plot(x_axis,hist2_2_2,color='red',label='without replacement')\n",
    "plt.legend()"
   ]
  },
  {
   "cell_type": "code",
   "execution_count": 127,
   "metadata": {},
   "outputs": [],
   "source": [
    "## Set y = 666 and 77. Running for several times, it seems that without replacement method converges faster, even \n",
    "## though the plots of these two methods nearly overlap."
   ]
  },
  {
   "cell_type": "code",
   "execution_count": 128,
   "metadata": {},
   "outputs": [],
   "source": [
    "## Task 3"
   ]
  },
  {
   "cell_type": "code",
   "execution_count": 129,
   "metadata": {},
   "outputs": [],
   "source": [
    "# generation of exact solution and data y and matrix A.\n",
    "\n",
    "def generate_problem_task3(m, n, rho):\n",
    "    A = np.random.normal(0., 1.0, (m, n))\n",
    "    x = np.random.random(n) # uniform in (0,1)\n",
    "    w = np.random.normal(0., rho, m)\n",
    "    y = A@x + w\n",
    "    return A, x, y"
   ]
  },
  {
   "cell_type": "code",
   "execution_count": 130,
   "metadata": {},
   "outputs": [
    {
     "name": "stdout",
     "output_type": "stream",
     "text": [
      "[0.71123934 0.74161903 0.71919001 0.30461604 0.34149708 0.25944785\n",
      " 0.85284351 0.87772705 0.48055323 0.84745881 0.50808282 0.08430177\n",
      " 0.51512877 0.11042864 0.09721226 0.98509846 0.20799047 0.39571977\n",
      " 0.14103221 0.0876424  0.55894318 0.2945062  0.21183665 0.01952243\n",
      " 0.49618336 0.83255748 0.58245107 0.99847964 0.2588375  0.12111805\n",
      " 0.56367993 0.08907193 0.51339076 0.66231182 0.43046647 0.44231798\n",
      " 0.05564786 0.43998403 0.48940273 0.46415858 0.84884398 0.12121977\n",
      " 0.27363193 0.99881966 0.35889548 0.31695556 0.28656087 0.14409731\n",
      " 0.43735546 0.29665871 0.82455233 0.58639848 0.45847077 0.38706472\n",
      " 0.02954101 0.31197331 0.16420166 0.52441341 0.50761286 0.40226179\n",
      " 0.56765784 0.19384072 0.01111932 0.77197108 0.11619764 0.94139286\n",
      " 0.9735381  0.45621685 0.74116235 0.49336811 0.03249954 0.1462469\n",
      " 0.65784247 0.27154672 0.57911644 0.90108374 0.66794439 0.59592076\n",
      " 0.20531799 0.59855097 0.5901212  0.37494172 0.70438057 0.31431675\n",
      " 0.15917235 0.90494525 0.5239634  0.51999645 0.87797641 0.11653032\n",
      " 0.62984241 0.53352823 0.132791   0.36537334 0.59364058 0.11492445\n",
      " 0.85427089 0.65262422 0.28209869 0.88192371]\n"
     ]
    }
   ],
   "source": [
    "# We generate the problem with 200x100 matrix. rho as 0.01.\n",
    "#\n",
    "A, xstar, y = generate_problem_task3(200, 100, 0.01)\n",
    "print(xstar)"
   ]
  },
  {
   "cell_type": "code",
   "execution_count": 131,
   "metadata": {},
   "outputs": [],
   "source": [
    "# In these two functions, we could only focus on the first n steps and try to make comparisons on these data only.\n",
    "# In practice, it requires more iterations to converge, due to the matrix might not be easy to deal with.\n",
    "# You can put the ordering loop into a naive loop: namely, we simply perform the IGD code several rounds.\n",
    "#\n",
    "#\n",
    "#\n",
    "# IGD, the ordering is permitted to have replacement. \n",
    "#\n",
    "#\n",
    "def IGD_wr_task3(y, A):\n",
    "    # implement the algorithm's iteration of IGD. Your result should return the the final xk\n",
    "    # at the last iteration and also the history of objective function at each xk.\n",
    "    n = A.shape[0]\n",
    "    w = A.shape[1]\n",
    "    ordering = np.random.choice(n,n,replace=True)\n",
    "    x = np.zeros(w)\n",
    "    xhist = np.zeros([w,n+1])\n",
    "    gamma = 1e-3\n",
    "    obej = []\n",
    "    def object_func(x):\n",
    "        sum = 0\n",
    "        for i in range(n):\n",
    "            sum += (np.matmul(A[i,:],x) - y[i])**2\n",
    "        return sum\n",
    "    for k in range(n):\n",
    "        m = ordering[k]\n",
    "        v = A[m,:]\n",
    "        x = x - gamma*v*(np.matmul(v,x) - y[m])\n",
    "        obej.append(object_func(x))\n",
    "        xhist[:, k+1] = x\n",
    "    return obej,x,xhist\n",
    "    pass"
   ]
  },
  {
   "cell_type": "code",
   "execution_count": 132,
   "metadata": {},
   "outputs": [],
   "source": [
    "# IGD, the ordering is not permitted to have replacement.\n",
    "#\n",
    "#\n",
    "def IGD_wo_task3(y, A):\n",
    "    # implement the algorithm's iteration of IGD. Your result should return the the final xk\n",
    "    # at the last iteration and also the history of objective function at each xk.\n",
    "    n = A.shape[0]\n",
    "    w = A.shape[1]\n",
    "    ordering = np.random.choice(n,n,replace=False)\n",
    "    x = np.zeros(w)\n",
    "    xhist = np.zeros([w,n+1])\n",
    "    gamma = 1e-3\n",
    "    obej = []\n",
    "    def object_func(x):\n",
    "        sum = 0\n",
    "        for i in range(n):\n",
    "            sum += (np.matmul(A[i,:],x) - y[i])**2\n",
    "        return sum\n",
    "    for k in range(n):\n",
    "        m = ordering[k]\n",
    "        v = A[m,:]\n",
    "        x = x - gamma*v*(np.matmul(v,x) - y[m])\n",
    "        obej.append(object_func(x))\n",
    "        xhist[:, k+1] = x\n",
    "    return obej,x,xhist\n",
    "    pass"
   ]
  },
  {
   "cell_type": "code",
   "execution_count": 133,
   "metadata": {},
   "outputs": [
    {
     "name": "stdout",
     "output_type": "stream",
     "text": [
      "[ 0.10213856  0.0482172   0.14289138  0.00686006  0.13101304  0.00735751\n",
      "  0.0079149   0.01932164  0.08407138  0.15431187  0.05102612 -0.13519071\n",
      "  0.08739328  0.0779178   0.00797432  0.13280737  0.06300187 -0.12312485\n",
      "  0.11993851 -0.03469528  0.14847636  0.04214971  0.0296766  -0.02010575\n",
      "  0.08109511  0.10676644  0.2405026   0.23562508 -0.20977308  0.10355569\n",
      "  0.05585809 -0.09531238  0.00350454  0.12725725  0.17257725  0.15072917\n",
      "  0.03316379  0.17451379  0.00744961  0.19981532  0.01723968  0.02761731\n",
      " -0.01407853  0.18747025  0.09422276  0.20007973 -0.06016256  0.06647034\n",
      "  0.08421376  0.00565573  0.09729689  0.14939374  0.07154234  0.1461488\n",
      " -0.02650904 -0.08341131  0.04370004  0.03226987  0.1031821   0.05753861\n",
      "  0.15014443  0.03203844 -0.05841941  0.09161574 -0.04814029  0.25195174\n",
      "  0.13277646 -0.02430196  0.10473235  0.1574395  -0.14581549 -0.11345918\n",
      "  0.21410021  0.04322183  0.1312086   0.19587433  0.12852688  0.05538518\n",
      "  0.09312922 -0.01302629  0.08917433  0.05052958  0.24856159  0.19834499\n",
      " -0.15288021  0.27811729  0.15655143  0.05495507  0.21073347  0.12030641\n",
      "  0.09693421  0.2052279   0.0486124   0.07447542  0.18569387  0.02247535\n",
      "  0.12105811  0.12313932  0.08928899  0.12137616]\n",
      "[ 0.10618219  0.12113205  0.07745616  0.01368804  0.00663919  0.01126242\n",
      " -0.02702675  0.15997881  0.19677788  0.15882755  0.04482356 -0.11990878\n",
      "  0.11629793  0.07451573  0.00449646  0.10612222  0.08010568 -0.02078681\n",
      "  0.0452076  -0.05955944  0.19873806  0.09289704  0.10546843  0.05422801\n",
      "  0.15842456  0.14239228  0.21793918  0.24500243 -0.06365388  0.03582218\n",
      "  0.04943861 -0.04656249  0.09128868  0.09359265  0.21679783  0.12598161\n",
      "  0.04243452  0.11082126  0.00489335  0.1728774   0.0915457   0.03836241\n",
      "  0.04720952  0.23788529  0.06153697  0.11781961 -0.01368101  0.14817802\n",
      "  0.06774789 -0.01681542  0.14027401  0.16661371  0.07046919  0.11065417\n",
      " -0.01790153  0.00063112  0.04028936  0.04478125  0.13119854  0.0937768\n",
      "  0.18081372  0.02064729 -0.01628025  0.11708128  0.02258593  0.2649476\n",
      "  0.20666666  0.09705421  0.16199037  0.10997367 -0.05564971 -0.14613667\n",
      "  0.1175031   0.05753858  0.1780564   0.13135593  0.13510515  0.08570738\n",
      "  0.05971853  0.05621266  0.13498507 -0.00958638  0.21182758  0.19498082\n",
      " -0.06743245  0.25513942  0.18127388  0.09171872  0.20199437  0.04332915\n",
      "  0.07624143  0.17535949 -0.01658324  0.0758094   0.18199901  0.03872799\n",
      "  0.04562762  0.12437302 -0.03549484  0.17187694]\n"
     ]
    }
   ],
   "source": [
    "hist3_1_1,xk3_1_1,xhist3_1_1=IGD_wr_task3(y,A)\n",
    "hist3_1_2,xk3_1_2,xhist3_1_2=IGD_wo_task3(y,A)\n",
    "print(xk3_1_1)\n",
    "print(xk3_1_2)"
   ]
  },
  {
   "cell_type": "code",
   "execution_count": 134,
   "metadata": {},
   "outputs": [
    {
     "data": {
      "text/plain": [
       "<matplotlib.legend.Legend at 0x1233202e8>"
      ]
     },
     "execution_count": 134,
     "metadata": {},
     "output_type": "execute_result"
    },
    {
     "data": {
      "image/png": "[encoded data removed]",
      "text/plain": [
       "<Figure size 432x288 with 1 Axes>"
      ]
     },
     "metadata": {
      "needs_background": "light"
     },
     "output_type": "display_data"
    }
   ],
   "source": [
    "plt.figure()\n",
    "plt.title('task3 hist')\n",
    "x_axis = range(len(hist3_1_1))\n",
    "plt.plot(x_axis,hist3_1_1,color='blue',label='with replacement')\n",
    "plt.plot(x_axis,hist3_1_2,color='red',label='without replacement')\n",
    "plt.legend()"
   ]
  },
  {
   "cell_type": "code",
   "execution_count": 135,
   "metadata": {},
   "outputs": [
    {
     "data": {
      "text/plain": [
       "<matplotlib.legend.Legend at 0x1235e1d68>"
      ]
     },
     "execution_count": 135,
     "metadata": {},
     "output_type": "execute_result"
    },
    {
     "data": {
      "image/png": "[encoded data removed]",
      "text/plain": [
       "<Figure size 432x288 with 1 Axes>"
      ]
     },
     "metadata": {
      "needs_background": "light"
     },
     "output_type": "display_data"
    }
   ],
   "source": [
    "from numpy import linalg as LA\n",
    "normwr = np.zeros(A.shape[0]+1)\n",
    "normwo = np.zeros(A.shape[0]+1)\n",
    "for i in range(A.shape[0]+1):\n",
    "    normwr[i] = LA.norm(xhist3_1_1[:,i] - xstar)\n",
    "    normwo[i] = LA.norm(xhist3_1_2[:,i] - xstar)\n",
    "plt.figure()\n",
    "plt.title('task3 hist norm')\n",
    "plt.plot(np.arange(201),normwr,color='blue',label='with replacement')\n",
    "plt.plot(np.arange(201),normwo,color='red',label='without replacement')\n",
    "plt.legend()"
   ]
  },
  {
   "cell_type": "code",
   "execution_count": 136,
   "metadata": {},
   "outputs": [],
   "source": [
    "## Without replacement converges better."
   ]
  },
  {
   "cell_type": "code",
   "execution_count": null,
   "metadata": {},
   "outputs": [],
   "source": []
  }
 ],
 "metadata": {
  "kernelspec": {
   "display_name": "Python 3",
   "language": "python",
   "name": "python3"
  },
  "language_info": {
   "codemirror_mode": {
    "name": "ipython",
    "version": 3
   },
   "file_extension": ".py",
   "mimetype": "text/x-python",
   "name": "python",
   "nbconvert_exporter": "python",
   "pygments_lexer": "ipython3",
   "version": "3.7.1"
  }
 },
 "nbformat": 4,
 "nbformat_minor": 2
}
